{
 "cells": [
  {
   "cell_type": "code",
   "execution_count": 1,
   "metadata": {},
   "outputs": [],
   "source": [
    "import numpy as np\n",
    "class NeuralNetwork:\n",
    "    def __init__(self, epochs=10000, lr=0.1):\n",
    "        self.epochs = epochs\n",
    "        self.lr = lr\n",
    "        self.layers = []\n",
    "\n",
    "        \n",
    "    def add(self, layer):\n",
    "        self.layers.append(layer)\n",
    "            \n",
    "        \n",
    "    def fit(self, X, y):\n",
    "        for epoch in range(self.epochs):\n",
    "            curr = X\n",
    "            # Forward propagation\n",
    "            for i in range(len(self.layers)):\n",
    "                curr = self.layers[i].forward(curr, self.lr)\n",
    "                \n",
    "            # Cost function\n",
    "            chain_error = y-curr\n",
    "            \n",
    "            #Backward propagation\n",
    "            for i in range(len(self.layers) - 1, -1, -1):\n",
    "                chain_error = self.layers[i].backward(chain_error)\n",
    "                \n",
    "                \n",
    "    def predict(self, X):\n",
    "        curr = X\n",
    "        for i in range(len(self.layers)):\n",
    "            curr = self.layers[i].forward(curr)\n",
    "        return curr  "
   ]
  },
  {
   "cell_type": "code",
   "execution_count": 5,
   "metadata": {},
   "outputs": [],
   "source": [
    "class Dense:\n",
    "    def __init__(self, input_nodes, output_nodes, lr=0.1):\n",
    "        self.W = np.random.uniform(size=(input_nodes, output_nodes))\n",
    "        self.b = np.random.uniform(size=(1, output_nodes))\n",
    "        self.value = None\n",
    "        self.lr = None\n",
    "        \n",
    "    def forward(self, X, lr=None):\n",
    "        if lr is not None:\n",
    "            self.lr = lr\n",
    "        self.value = X\n",
    "        res = np.dot(X, self.W) + self.b\n",
    "        return res\n",
    "    \n",
    "    def backward(self, chain_error):    \n",
    "        res = chain_error.dot(self.W.T)\n",
    "        self.W += self.value.T.dot(chain_error) *self.lr\n",
    "        self.b += np.sum(chain_error, axis=0, keepdims=True) *self.lr\n",
    "        return res"
   ]
  },
  {
   "cell_type": "code",
   "execution_count": 9,
   "metadata": {},
   "outputs": [],
   "source": [
    "class Activation:\n",
    "    def __init__(self, name='sigmoid'):\n",
    "        self.func = None\n",
    "        self.deriv_func = None\n",
    "        self.value = None\n",
    "        if name == 'sigmoid':\n",
    "            self.func = self._sigmoid\n",
    "            self.deriv_func = self._derivatives_sigmoid\n",
    "        \n",
    "            \n",
    "    def forward(self, X, lr=None):\n",
    "        self.value = self.func(X)\n",
    "        return self.value\n",
    "    \n",
    "    def backward(self, chain_error):\n",
    "        res = chain_error * self.deriv_func(self.value)\n",
    "        return res\n",
    "\n",
    "    \n",
    "    def _sigmoid(self, x):\n",
    "        return 1 / (1 + np.exp(-x))\n",
    "    \n",
    "    def _derivatives_sigmoid(self, x):\n",
    "        t = self._sigmoid(x)\n",
    "        return t * (1 - t)"
   ]
  },
  {
   "cell_type": "code",
   "execution_count": 10,
   "metadata": {},
   "outputs": [
    {
     "name": "stdout",
     "output_type": "stream",
     "text": [
      "[[0.97064661]\n",
      " [0.96933918]\n",
      " [0.02643318]\n",
      " [0.02159396]]\n"
     ]
    }
   ],
   "source": [
    "X=np.array([[1, 0], [0, 1], [1, 1], [0, 0]])\n",
    "y=np.array([[1],[1],[0], [0]])\n",
    "\n",
    "myNN = NeuralNetwork(lr=0.4, epochs=20000)\n",
    "myNN.add(Dense(2, 6))\n",
    "myNN.add(Activation('sigmoid'))\n",
    "myNN.add(Dense(6, 1))\n",
    "myNN.add(Activation('sigmoid'))\n",
    "myNN.fit(X, y)\n",
    "print(myNN.predict(X))"
   ]
  },
  {
   "cell_type": "code",
   "execution_count": null,
   "metadata": {},
   "outputs": [],
   "source": []
  },
  {
   "cell_type": "code",
   "execution_count": null,
   "metadata": {},
   "outputs": [],
   "source": []
  }
 ],
 "metadata": {
  "kernelspec": {
   "display_name": "Python 3",
   "language": "python",
   "name": "python3"
  },
  "language_info": {
   "codemirror_mode": {
    "name": "ipython",
    "version": 3
   },
   "file_extension": ".py",
   "mimetype": "text/x-python",
   "name": "python",
   "nbconvert_exporter": "python",
   "pygments_lexer": "ipython3",
   "version": "3.5.2"
  },
  "varInspector": {
   "cols": {
    "lenName": 16,
    "lenType": 16,
    "lenVar": 40
   },
   "kernels_config": {
    "python": {
     "delete_cmd_postfix": "",
     "delete_cmd_prefix": "del ",
     "library": "var_list.py",
     "varRefreshCmd": "print(var_dic_list())"
    },
    "r": {
     "delete_cmd_postfix": ") ",
     "delete_cmd_prefix": "rm(",
     "library": "var_list.r",
     "varRefreshCmd": "cat(var_dic_list()) "
    }
   },
   "types_to_exclude": [
    "module",
    "function",
    "builtin_function_or_method",
    "instance",
    "_Feature"
   ],
   "window_display": false
  }
 },
 "nbformat": 4,
 "nbformat_minor": 2
}
